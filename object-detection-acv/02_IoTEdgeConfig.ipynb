{
 "cells": [
  {
   "cell_type": "markdown",
   "metadata": {},
   "source": [
    "# Configure The Physical Device\n",
    "\n",
    "In notebook, we configure a device as the IoT edge device. We use a NC6 Ubuntu Linux VM as the edge device, which is the same Linux VM where you run the current notebook. The goal is to configure the edge device so that it can run [Docker](https://docs.docker.com/v17.12/install/linux/docker-ee/ubuntu), [nvidia-docker](https://github.com/NVIDIA/nvidia-docker), and [IoT Edge runtime](https://docs.microsoft.com/en-us/azure/iot-edge/how-to-install-iot-edge-linux). If another device is used as the edge device, instructions need to be adjusted accordingly. \n"
   ]
  },
  {
   "cell_type": "code",
   "execution_count": 1,
   "metadata": {},
   "outputs": [],
   "source": [
    "%reload_ext autoreload\n",
    "%autoreload 2\n",
    "%matplotlib inline\n",
    "\n",
    "import time\n",
    "from dotenv import set_key, get_key, find_dotenv"
   ]
  },
  {
   "cell_type": "code",
   "execution_count": null,
   "metadata": {},
   "outputs": [],
   "source": [
    "# get the .env file where all the variables are stored\n",
    "env_path = find_dotenv(raise_error_if_not_found=True)"
   ]
  },
  {
   "cell_type": "code",
   "execution_count": null,
   "metadata": {},
   "outputs": [],
   "source": [
    "# get previously stored variables\n",
    "device_connection_string = get_key(env_path, 'device_connection_string')"
   ]
  },
  {
   "cell_type": "markdown",
   "metadata": {},
   "source": [
    "### Install az-cli iot extension "
   ]
  },
  {
   "cell_type": "code",
   "execution_count": 8,
   "metadata": {},
   "outputs": [
    {
     "name": "stdout",
     "output_type": "stream",
     "text": [
      "Already logged in\n"
     ]
    }
   ],
   "source": [
    "accounts = !az account list --all -o tsv\n",
    "if \"Please run \\\"az login\\\" to access your accounts.\" in accounts[0]:\n",
    "    !az login -o table\n",
    "else:\n",
    "    print(\"Already logged in\")"
   ]
  },
  {
   "cell_type": "markdown",
   "metadata": {},
   "source": [
    "### Register Microsoft key and software repository feed\n",
    "\n",
    "Prepare your device for the IoT Edge runtime installation."
   ]
  },
  {
   "cell_type": "code",
   "execution_count": 19,
   "metadata": {},
   "outputs": [
    {
     "name": "stdout",
     "output_type": "stream",
     "text": [
      "16.04\n"
     ]
    }
   ],
   "source": [
    "# Install the repository configuration. Replace <release> with 16.04 or 18.04 as appropriate for your release of Ubuntu.\n",
    "release = !lsb_release -r\n",
    "release  = release[0].split('\\t')[1]\n",
    "print(release)"
   ]
  },
  {
   "cell_type": "code",
   "execution_count": 20,
   "metadata": {},
   "outputs": [
    {
     "name": "stdout",
     "output_type": "stream",
     "text": [
      "  % Total    % Received % Xferd  Average Speed   Time    Time     Time  Current\n",
      "                                 Dload  Upload   Total   Spent    Left  Speed\n",
      "100    79  100    79    0     0    729      0 --:--:-- --:--:-- --:--:--   731\n"
     ]
    }
   ],
   "source": [
    "!curl https://packages.microsoft.com/config/ubuntu/$release/prod.list > ./microsoft-prod.list"
   ]
  },
  {
   "cell_type": "code",
   "execution_count": 21,
   "metadata": {},
   "outputs": [],
   "source": [
    "# Copy the generated list.\n",
    "!sudo cp ./microsoft-prod.list /etc/apt/sources.list.d/"
   ]
  },
  {
   "cell_type": "code",
   "execution_count": 22,
   "metadata": {},
   "outputs": [
    {
     "name": "stdout",
     "output_type": "stream",
     "text": [
      "  % Total    % Received % Xferd  Average Speed   Time    Time     Time  Current\n",
      "                                 Dload  Upload   Total   Spent    Left  Speed\n",
      "100   983  100   983    0     0   8871      0 --:--:-- --:--:-- --:--:--  8855\n"
     ]
    }
   ],
   "source": [
    "#Install Microsoft GPG public key\n",
    "!curl https://packages.microsoft.com/keys/microsoft.asc | gpg --dearmor > microsoft.gpg\n",
    "!sudo cp ./microsoft.gpg /etc/apt/trusted.gpg.d/"
   ]
  },
  {
   "cell_type": "markdown",
   "metadata": {},
   "source": [
    "### Install the Azure IoT Edge Security Daemon\n",
    "\n",
    "The IoT Edge security daemon provides and maintains security standards on the IoT Edge device. The daemon starts on every boot and bootstraps the device by starting the rest of the IoT Edge runtime.\n",
    "The installation command also installs the standard version of the iothsmlib if not already present."
   ]
  },
  {
   "cell_type": "code",
   "execution_count": 23,
   "metadata": {},
   "outputs": [
    {
     "name": "stdout",
     "output_type": "stream",
     "text": [
      "Get:1 file:/var/nccl-repo-2.2.13-ga-cuda9.2  InRelease\n",
      "Ign:1 file:/var/nccl-repo-2.2.13-ga-cuda9.2  InRelease\n",
      "Get:2 file:/var/nv-tensorrt-repo-ga-cuda9.0-trt3.0.2-20180108  InRelease\n",
      "Ign:2 file:/var/nv-tensorrt-repo-ga-cuda9.0-trt3.0.2-20180108  InRelease\n",
      "Get:3 file:/var/nvidia-diag-driver-local-repo-410.79  InRelease\n",
      "Ign:3 file:/var/nvidia-diag-driver-local-repo-410.79  InRelease\n",
      "Get:4 file:/var/nccl-repo-2.2.13-ga-cuda9.2  Release [574 B]\n",
      "Hit:5 http://azure.archive.ubuntu.com/ubuntu xenial InRelease\n",
      "Get:6 http://azure.archive.ubuntu.com/ubuntu xenial-updates InRelease [109 kB]\n",
      "Get:4 file:/var/nccl-repo-2.2.13-ga-cuda9.2  Release [574 B]                   \n",
      "Get:7 http://azure.archive.ubuntu.com/ubuntu xenial-backports InRelease [107 kB]\n",
      "Get:8 file:/var/nv-tensorrt-repo-ga-cuda9.0-trt3.0.2-20180108  Release [574 B] \n",
      "Get:8 file:/var/nv-tensorrt-repo-ga-cuda9.0-trt3.0.2-20180108  Release [574 B] \n",
      "Get:9 file:/var/nvidia-diag-driver-local-repo-410.79  Release [574 B]          \n",
      "Get:9 file:/var/nvidia-diag-driver-local-repo-410.79  Release [574 B]          \n",
      "Get:10 http://storage.googleapis.com/tensorflow-serving-apt stable InRelease [3,012 B]\n",
      "Hit:11 http://packages.microsoft.com/repos/vscode stable InRelease             \n",
      "Ign:12 http://developer.download.nvidia.com/compute/cuda/repos/ubuntu1604/x86_64  InRelease\n",
      "Hit:13 http://developer.download.nvidia.com/compute/cuda/repos/ubuntu1604/x86_64  Release\n",
      "Hit:14 https://packages.microsoft.com/repos/azure-cli xenial InRelease         \n",
      "Hit:15 https://packages.microsoft.com/ubuntu/16.04/prod xenial InRelease       \n",
      "Get:16 http://security.ubuntu.com/ubuntu xenial-security InRelease [109 kB]    \n",
      "Hit:17 http://ppa.launchpad.net/webupd8team/atom/ubuntu xenial InRelease       \n",
      "Get:19 http://azure.archive.ubuntu.com/ubuntu xenial-updates/main Sources [339 kB]\n",
      "Hit:20 http://nginx.org/packages/ubuntu xenial InRelease                       \n",
      "Get:21 http://azure.archive.ubuntu.com/ubuntu xenial-updates/universe Sources [258 kB]\n",
      "Get:22 http://azure.archive.ubuntu.com/ubuntu xenial-updates/main amd64 Packages [1,000 kB]\n",
      "Get:23 http://azure.archive.ubuntu.com/ubuntu xenial-updates/universe amd64 Packages [758 kB]\n",
      "Get:24 http://azure.archive.ubuntu.com/ubuntu xenial-updates/universe Translation-en [316 kB]\n",
      "Hit:25 http://ppa.launchpad.net/x2go/stable/ubuntu xenial InRelease            \n",
      "Err:10 http://storage.googleapis.com/tensorflow-serving-apt stable InRelease   \n",
      "  The following signatures were invalid: KEYEXPIRED 1562881134  KEYEXPIRED 1562881134  KEYEXPIRED 1562881134\n",
      "Ign:28 https://dl.bintray.com/sbt/debian  InRelease   \n",
      "Get:29 https://dl.bintray.com/sbt/debian  Release [815 B]\n",
      "Hit:29 https://dl.bintray.com/sbt/debian  Release                            \n",
      "Get:32 http://security.ubuntu.com/ubuntu xenial-security/main Sources [152 kB]\n",
      "Get:33 http://security.ubuntu.com/ubuntu xenial-security/main amd64 Packages [710 kB]\n",
      "Get:34 http://security.ubuntu.com/ubuntu xenial-security/universe amd64 Packages [450 kB]\n",
      "Fetched 4,312 kB in 1s (2,698 kB/s)                        \n",
      "Reading package lists... Done\n",
      "W: An error occurred during the signature verification. The repository is not updated and the previous index files will be used. GPG error: http://storage.googleapis.com/tensorflow-serving-apt stable InRelease: The following signatures were invalid: KEYEXPIRED 1562881134  KEYEXPIRED 1562881134  KEYEXPIRED 1562881134\n",
      "W: Failed to fetch http://storage.googleapis.com/tensorflow-serving-apt/dists/stable/InRelease  The following signatures were invalid: KEYEXPIRED 1562881134  KEYEXPIRED 1562881134  KEYEXPIRED 1562881134\n",
      "W: Some index files failed to download. They have been ignored, or old ones used instead.\n"
     ]
    }
   ],
   "source": [
    "# Perform apt update.\n",
    "!sudo apt-get update"
   ]
  },
  {
   "cell_type": "code",
   "execution_count": 24,
   "metadata": {},
   "outputs": [
    {
     "name": "stdout",
     "output_type": "stream",
     "text": [
      "Reading package lists... Done\n",
      "Building dependency tree       \n",
      "Reading state information... Done\n",
      "The following additional packages will be installed:\n",
      "  libiothsm-std\n",
      "The following NEW packages will be installed:\n",
      "  iotedge libiothsm-std\n",
      "0 upgraded, 2 newly installed, 0 to remove and 130 not upgraded.\n",
      "Need to get 5,510 kB of archives.\n",
      "After this operation, 26.9 MB of additional disk space will be used.\n",
      "Get:1 https://packages.microsoft.com/ubuntu/16.04/prod xenial/main amd64 libiothsm-std amd64 1.0.8-2 [422 kB]\n",
      "Get:2 https://packages.microsoft.com/ubuntu/16.04/prod xenial/main amd64 iotedge amd64 1.0.8-2 [5,088 kB]\n",
      "Fetched 5,510 kB in 0s (26.2 MB/s) \n",
      "Selecting previously unselected package libiothsm-std.\n",
      "(Reading database ... 432683 files and directories currently installed.)\n",
      "Preparing to unpack .../libiothsm-std_1.0.8-2_amd64.deb ...\n",
      "Unpacking libiothsm-std (1.0.8-2) ...\n",
      "Selecting previously unselected package iotedge.\n",
      "Preparing to unpack .../iotedge_1.0.8-2_amd64.deb ...\n",
      "Adding system user `iotedge' (UID 124) ...\n",
      "sent invalidate(passwd) request, exiting\n",
      "sent invalidate(group) request, exiting\n",
      "Adding new user `iotedge' (UID 124) with group `nogroup' ...\n",
      "sent invalidate(passwd) request, exiting\n",
      "sent invalidate(group) request, exiting\n",
      "sent invalidate(passwd) request, exiting\n",
      "sent invalidate(group) request, exiting\n",
      "sent invalidate(passwd) request, exiting\n",
      "sent invalidate(group) request, exiting\n",
      "sent invalidate(passwd) request, exiting\n",
      "sent invalidate(group) request, exiting\n",
      "sent invalidate(passwd) request, exiting\n",
      "sent invalidate(group) request, exiting\n",
      "sent invalidate(passwd) request, exiting\n",
      "sent invalidate(group) request, exiting\n",
      "Creating home directory `/var/lib/iotedge' ...\n",
      "Adding group `iotedge' (GID 131) ...\n",
      "sent invalidate(group) request, exiting\n",
      "sent invalidate(passwd) request, exiting\n",
      "sent invalidate(group) request, exiting\n",
      "sent invalidate(group) request, exiting\n",
      "sent invalidate(group) request, exiting\n",
      "Done.\n",
      "Adding user `iotedge' to group `docker' ...\n",
      "sent invalidate(passwd) request, exiting\n",
      "sent invalidate(group) request, exiting\n",
      "Adding user iotedge to group docker\n",
      "sent invalidate(passwd) request, exiting\n",
      "sent invalidate(group) request, exiting\n",
      "sent invalidate(group) request, exiting\n",
      "sent invalidate(passwd) request, exiting\n",
      "sent invalidate(group) request, exiting\n",
      "Done.\n",
      "sent invalidate(passwd) request, exiting\n",
      "sent invalidate(group) request, exiting\n",
      "sent invalidate(passwd) request, exiting\n",
      "sent invalidate(group) request, exiting\n",
      "sent invalidate(group) request, exiting\n",
      "sent invalidate(passwd) request, exiting\n",
      "sent invalidate(group) request, exiting\n",
      "Unpacking iotedge (1.0.8-2) ...\n",
      "Processing triggers for systemd (229-4ubuntu21.21) ...\n",
      "Processing triggers for ureadahead (0.100.0-19) ...\n",
      "Processing triggers for man-db (2.7.5-1) ...\n",
      "Setting up libiothsm-std (1.0.8-2) ...\n",
      "Setting up iotedge (1.0.8-2) ...\n",
      "===============================================================================\n",
      "\n",
      "                              Azure IoT Edge\n",
      "\n",
      "  IMPORTANT: Please update the configuration file located at:\n",
      "\n",
      "    /etc/iotedge/config.yaml\n",
      "\n",
      "  with your device's provisioning information. You will need to restart the\n",
      "  'iotedge' service for these changes to take effect.\n",
      "\n",
      "  To restart the 'iotedge' service, use:\n",
      "\n",
      "    'systemctl restart iotedge'\n",
      "\n",
      "    - OR -\n",
      "\n",
      "    /etc/init.d/iotedge restart\n",
      "\n",
      "  These commands may need to be run with sudo depending on your environment.\n",
      "\n",
      "===============================================================================\n",
      "Processing triggers for libc-bin (2.23-0ubuntu11) ...\n",
      "Processing triggers for systemd (229-4ubuntu21.21) ...\n",
      "Processing triggers for ureadahead (0.100.0-19) ...\n"
     ]
    }
   ],
   "source": [
    "# Install the security daemon. The package is installed at /etc/iotedge/.\n",
    "!sudo apt-get install iotedge -y --no-install-recommends"
   ]
  },
  {
   "cell_type": "markdown",
   "metadata": {},
   "source": [
    "### Configure the Azure IoT Edge Security \n",
    "\n",
    "Configure the IoT Edge runtime to link your physical device with a device identity that exists in an Azure IoT hub.\n",
    "The daemon can be configured using the configuration file at /etc/iotedge/config.yaml. The file is write-protected by default, you might need elevated permissions to edit it."
   ]
  },
  {
   "cell_type": "code",
   "execution_count": 153,
   "metadata": {},
   "outputs": [],
   "source": [
    "# Manual provisioning IoT edge device\n",
    "!sudo sed -i \"s#\\(device_connection_string: \\).*#\\1\\\"$device_connection_string\\\"#g\" /etc/iotedge/config.yaml"
   ]
  },
  {
   "cell_type": "code",
   "execution_count": 160,
   "metadata": {},
   "outputs": [],
   "source": [
    "# restart the daemon\n",
    "!sudo systemctl restart iotedge\n",
    "time.sleep(10) # Wait 10 seconds for iotedge to restart"
   ]
  },
  {
   "cell_type": "code",
   "execution_count": 162,
   "metadata": {},
   "outputs": [],
   "source": [
    "# restart the daemon again\n",
    "!sudo systemctl restart iotedge"
   ]
  },
  {
   "cell_type": "markdown",
   "metadata": {},
   "source": [
    "### Verify successful installation"
   ]
  },
  {
   "cell_type": "code",
   "execution_count": 28,
   "metadata": {},
   "outputs": [
    {
     "name": "stdout",
     "output_type": "stream",
     "text": [
      "\u001b[0;1;32m●\u001b[0m iotedge.service - Azure IoT Edge daemon\r\n",
      "   Loaded: loaded (/lib/systemd/system/iotedge.service; enabled; vendor preset: enabled)\r\n",
      "   Active: \u001b[0;1;32mactive (running)\u001b[0m since Wed 2019-07-31 20:34:24 UTC; 10s ago\r\n",
      "     Docs: man:iotedged(8)\r\n",
      " Main PID: 67831 (iotedged)\r\n",
      "    Tasks: 13\r\n",
      "   Memory: 5.1M\r\n",
      "      CPU: 2.739s\r\n",
      "   CGroup: /system.slice/iotedge.service\r\n",
      "           └─67831 /usr/bin/iotedged -c /etc/iotedge/config.yaml\r\n",
      "\r\n",
      "Jul 31 20:34:27 gpuvm iotedged[67831]: 2019-07-31T20:34:27Z [INFO] - Listen...I.\r\n",
      "Jul 31 20:34:27 gpuvm iotedged[67831]: 2019-07-31T20:34:27Z [INFO] - Checki...us\r\n",
      "Jul 31 20:34:27 gpuvm iotedged[67831]: 2019-07-31T20:34:27Z [INFO] - Creati...nt\r\n",
      "Jul 31 20:34:27 gpuvm iotedged[67831]: 2019-07-31T20:34:27Z [INFO] - Updati...nt\r\n",
      "Jul 31 20:34:27 gpuvm iotedged[67831]: 2019-07-31T20:34:27Z [INFO] - Pullin.....\r\n",
      "Jul 31 20:34:31 gpuvm iotedged[67831]: 2019-07-31T20:34:31Z [INFO] - Succes....0\r\n",
      "Jul 31 20:34:31 gpuvm iotedged[67831]: 2019-07-31T20:34:31Z [INFO] - Creati.....\r\n",
      "Jul 31 20:34:33 gpuvm iotedged[67831]: 2019-07-31T20:34:33Z [INFO] - Succes...nt\r\n",
      "Jul 31 20:34:33 gpuvm iotedged[67831]: 2019-07-31T20:34:33Z [INFO] - Starti.....\r\n",
      "Jul 31 20:34:33 gpuvm iotedged[67831]: 2019-07-31T20:34:33Z [INFO] - Succes...nt\r\n",
      "Hint: Some lines were ellipsized, use -l to show in full.\r\n"
     ]
    }
   ],
   "source": [
    "# check the status of the IoT Edge Daemon\n",
    "!systemctl status iotedge"
   ]
  },
  {
   "cell_type": "code",
   "execution_count": 29,
   "metadata": {},
   "outputs": [
    {
     "name": "stdout",
     "output_type": "stream",
     "text": [
      "-- Logs begin at Wed 2019-07-31 12:51:08 UTC, end at Wed 2019-07-31 20:34:35 UTC. --\r\n",
      "Jul 31 20:34:01 gpuvm systemd[1]: Started Azure IoT Edge daemon.\r\n",
      "Jul 31 20:34:01 gpuvm iotedged[67551]: 2019-07-31T20:34:01Z [INFO] - Using ...ml\r\n",
      "Jul 31 20:34:01 gpuvm iotedged[67551]: 2019-07-31T20:34:01Z [INFO] - Starti...on\r\n",
      "Jul 31 20:34:01 gpuvm iotedged[67551]: 2019-07-31T20:34:01Z [INFO] - Versio...0)\r\n",
      "Jul 31 20:34:01 gpuvm systemd[1]: \u001b[0;1;39miotedge.service: Main process exited, cod...RE\u001b[0m\r\n",
      "Jul 31 20:34:01 gpuvm systemd[1]: \u001b[0;1;39miotedge.service: Unit entered failed state.\u001b[0m\r\n",
      "Jul 31 20:34:01 gpuvm systemd[1]: \u001b[0;1;39miotedge.service: Failed with result 'exit...'.\u001b[0m\r\n",
      "Jul 31 20:34:01 gpuvm systemd[1]: iotedge.service: Service hold-off time ov...t.\r\n",
      "Jul 31 20:34:01 gpuvm systemd[1]: Stopped Azure IoT Edge daemon.\r\n",
      "Jul 31 20:34:01 gpuvm systemd[1]: Started Azure IoT Edge daemon.\r\n",
      "Jul 31 20:34:01 gpuvm iotedged[67581]: 2019-07-31T20:34:01Z [INFO] - Using ...ml\r\n",
      "Jul 31 20:34:01 gpuvm iotedged[67581]: 2019-07-31T20:34:01Z [INFO] - Starti...on\r\n",
      "Jul 31 20:34:01 gpuvm iotedged[67581]: 2019-07-31T20:34:01Z [INFO] - Versio...0)\r\n",
      "Jul 31 20:34:01 gpuvm systemd[1]: \u001b[0;1;39miotedge.service: Main process exited, cod...RE\u001b[0m\r\n",
      "Jul 31 20:34:01 gpuvm systemd[1]: \u001b[0;1;39miotedge.service: Unit entered failed state.\u001b[0m\r\n",
      "Jul 31 20:34:01 gpuvm systemd[1]: \u001b[0;1;39miotedge.service: Failed with result 'exit...'.\u001b[0m\r\n",
      "Jul 31 20:34:02 gpuvm systemd[1]: iotedge.service: Service hold-off time ov...t.\r\n",
      "Jul 31 20:34:02 gpuvm systemd[1]: Stopped Azure IoT Edge daemon.\r\n",
      "Jul 31 20:34:02 gpuvm systemd[1]: Started Azure IoT Edge daemon.\r\n",
      "Jul 31 20:34:02 gpuvm iotedged[67631]: 2019-07-31T20:34:02Z [INFO] - Using ...ml\r\n",
      "Jul 31 20:34:02 gpuvm iotedged[67631]: 2019-07-31T20:34:02Z [INFO] - Starti...on\r\n",
      "Jul 31 20:34:02 gpuvm iotedged[67631]: 2019-07-31T20:34:02Z [INFO] - Versio...0)\r\n",
      "Jul 31 20:34:02 gpuvm systemd[1]: \u001b[0;1;39miotedge.service: Main process exited, cod...RE\u001b[0m\r\n",
      "Jul 31 20:34:02 gpuvm systemd[1]: \u001b[0;1;39miotedge.service: Unit entered failed state.\u001b[0m\r\n",
      "Jul 31 20:34:02 gpuvm systemd[1]: \u001b[0;1;39miotedge.service: Failed with result 'exit...'.\u001b[0m\r\n",
      "Jul 31 20:34:02 gpuvm systemd[1]: iotedge.service: Service hold-off time ov...t.\r\n",
      "Jul 31 20:34:02 gpuvm systemd[1]: Stopped Azure IoT Edge daemon.\r\n",
      "Jul 31 20:34:02 gpuvm systemd[1]: Started Azure IoT Edge daemon.\r\n",
      "Jul 31 20:34:02 gpuvm iotedged[67661]: 2019-07-31T20:34:02Z [INFO] - Using ...ml\r\n",
      "Jul 31 20:34:02 gpuvm iotedged[67661]: 2019-07-31T20:34:02Z [INFO] - Starti...on\r\n",
      "Jul 31 20:34:02 gpuvm iotedged[67661]: 2019-07-31T20:34:02Z [INFO] - Versio...0)\r\n",
      "Jul 31 20:34:02 gpuvm systemd[1]: \u001b[0;1;39miotedge.service: Main process exited, cod...RE\u001b[0m\r\n",
      "Jul 31 20:34:02 gpuvm systemd[1]: \u001b[0;1;39miotedge.service: Unit entered failed state.\u001b[0m\r\n",
      "Jul 31 20:34:02 gpuvm systemd[1]: \u001b[0;1;39miotedge.service: Failed with result 'exit...'.\u001b[0m\r\n",
      "Jul 31 20:34:02 gpuvm systemd[1]: iotedge.service: Service hold-off time ov...t.\r\n",
      "Jul 31 20:34:02 gpuvm systemd[1]: Stopped Azure IoT Edge daemon.\r\n",
      "Jul 31 20:34:02 gpuvm systemd[1]: Started Azure IoT Edge daemon.\r\n",
      "Jul 31 20:34:02 gpuvm iotedged[67707]: 2019-07-31T20:34:02Z [INFO] - Using ...ml\r\n",
      "Jul 31 20:34:02 gpuvm iotedged[67707]: 2019-07-31T20:34:02Z [INFO] - Starti...on\r\n",
      "Jul 31 20:34:02 gpuvm iotedged[67707]: 2019-07-31T20:34:02Z [INFO] - Versio...0)\r\n",
      "Jul 31 20:34:02 gpuvm systemd[1]: \u001b[0;1;39miotedge.service: Main process exited, cod...RE\u001b[0m\r\n",
      "Jul 31 20:34:02 gpuvm systemd[1]: \u001b[0;1;39miotedge.service: Unit entered failed state.\u001b[0m\r\n",
      "Jul 31 20:34:02 gpuvm systemd[1]: \u001b[0;1;39miotedge.service: Failed with result 'exit...'.\u001b[0m\r\n",
      "Jul 31 20:34:02 gpuvm systemd[1]: iotedge.service: Service hold-off time ov...t.\r\n",
      "Jul 31 20:34:02 gpuvm systemd[1]: Stopped Azure IoT Edge daemon.\r\n",
      "Jul 31 20:34:02 gpuvm systemd[1]: Started Azure IoT Edge daemon.\r\n",
      "Jul 31 20:34:02 gpuvm iotedged[67736]: 2019-07-31T20:34:02Z [INFO] - Using ...ml\r\n",
      "Jul 31 20:34:02 gpuvm iotedged[67736]: 2019-07-31T20:34:02Z [INFO] - Starti...on\r\n",
      "Jul 31 20:34:02 gpuvm iotedged[67736]: 2019-07-31T20:34:02Z [INFO] - Versio...0)\r\n",
      "Jul 31 20:34:02 gpuvm systemd[1]: \u001b[0;1;39miotedge.service: Main process exited, cod...RE\u001b[0m\r\n",
      "Jul 31 20:34:02 gpuvm systemd[1]: \u001b[0;1;39miotedge.service: Unit entered failed state.\u001b[0m\r\n",
      "Jul 31 20:34:02 gpuvm systemd[1]: \u001b[0;1;39miotedge.service: Failed with result 'exit...'.\u001b[0m\r\n",
      "Jul 31 20:34:03 gpuvm systemd[1]: iotedge.service: Service hold-off time ov...t.\r\n",
      "Jul 31 20:34:03 gpuvm systemd[1]: Stopped Azure IoT Edge daemon.\r\n",
      "Jul 31 20:34:03 gpuvm systemd[1]: Started Azure IoT Edge daemon.\r\n",
      "Jul 31 20:34:03 gpuvm iotedged[67761]: 2019-07-31T20:34:03Z [INFO] - Using ...ml\r\n",
      "Jul 31 20:34:03 gpuvm iotedged[67761]: 2019-07-31T20:34:03Z [INFO] - Starti...on\r\n",
      "Jul 31 20:34:03 gpuvm iotedged[67761]: 2019-07-31T20:34:03Z [INFO] - Versio...0)\r\n",
      "Jul 31 20:34:03 gpuvm systemd[1]: \u001b[0;1;39miotedge.service: Main process exited, cod...RE\u001b[0m\r\n",
      "Jul 31 20:34:03 gpuvm systemd[1]: \u001b[0;1;39miotedge.service: Unit entered failed state.\u001b[0m\r\n",
      "Jul 31 20:34:03 gpuvm systemd[1]: \u001b[0;1;39miotedge.service: Failed with result 'exit...'.\u001b[0m\r\n",
      "Jul 31 20:34:03 gpuvm systemd[1]: iotedge.service: Service hold-off time ov...t.\r\n",
      "Jul 31 20:34:03 gpuvm systemd[1]: Stopped Azure IoT Edge daemon.\r\n",
      "Jul 31 20:34:03 gpuvm systemd[1]: \u001b[0;1;39mDependency failed for Azure IoT Edge daemon.\u001b[0m\r\n",
      "Jul 31 20:34:03 gpuvm systemd[1]: \u001b[0;1;39miotedge.service: Job iotedge.service/star...'.\u001b[0m\r\n",
      "Jul 31 20:34:11 gpuvm systemd[1]: Stopped Azure IoT Edge daemon.\r\n",
      "Jul 31 20:34:11 gpuvm systemd[1]: \u001b[0;1;39mDependency failed for Azure IoT Edge daemon.\u001b[0m\r\n",
      "Jul 31 20:34:11 gpuvm systemd[1]: \u001b[0;1;39miotedge.service: Job iotedge.service/star...'.\u001b[0m\r\n",
      "Jul 31 20:34:24 gpuvm systemd[1]: Stopped Azure IoT Edge daemon.\r\n",
      "Jul 31 20:34:24 gpuvm systemd[1]: Started Azure IoT Edge daemon.\r\n",
      "Jul 31 20:34:24 gpuvm iotedged[67831]: 2019-07-31T20:34:24Z [INFO] - Using ...ml\r\n",
      "Jul 31 20:34:24 gpuvm iotedged[67831]: 2019-07-31T20:34:24Z [INFO] - Starti...on\r\n",
      "Jul 31 20:34:24 gpuvm iotedged[67831]: 2019-07-31T20:34:24Z [INFO] - Versio...0)\r\n",
      "Jul 31 20:34:24 gpuvm iotedged[67831]: 2019-07-31T20:34:24Z [INFO] - Using ...ge\r\n",
      "Jul 31 20:34:24 gpuvm iotedged[67831]: 2019-07-31T20:34:24Z [INFO] - Initia.....\r\n",
      "Jul 31 20:34:24 gpuvm iotedged[67831]: 2019-07-31T20:34:24Z [INFO] - Initia.....\r\n",
      "Jul 31 20:34:24 gpuvm iotedged[67831]: 2019-07-31T20:34:24Z [INFO] - Succes...me\r\n",
      "Jul 31 20:34:24 gpuvm iotedged[67831]: 2019-07-31T20:34:24Z [INFO] - Finish...e.\r\n",
      "Jul 31 20:34:24 gpuvm iotedged[67831]: 2019-07-31T20:34:24Z [INFO] - Config...y.\r\n",
      "Jul 31 20:34:24 gpuvm iotedged[67831]: 2019-07-31T20:34:24Z [INFO] - Config.....\r\n",
      "Jul 31 20:34:24 gpuvm iotedged[67831]: 2019-07-31T20:34:24Z [INFO] - Transp.....\r\n",
      "Jul 31 20:34:24 gpuvm iotedged[67831]: 2019-07-31T20:34:24Z [INFO] - Finish...s.\r\n",
      "Jul 31 20:34:24 gpuvm iotedged[67831]: 2019-07-31T20:34:24Z [INFO] - Initia.....\r\n",
      "Jul 31 20:34:26 gpuvm iotedged[67831]: 2019-07-31T20:34:26Z [INFO] - Finish...m.\r\n",
      "Jul 31 20:34:26 gpuvm iotedged[67831]: 2019-07-31T20:34:26Z [INFO] - Detect.....\r\n",
      "Jul 31 20:34:26 gpuvm iotedged[67831]: 2019-07-31T20:34:26Z [INFO] - Change...d.\r\n",
      "Jul 31 20:34:26 gpuvm iotedged[67831]: 2019-07-31T20:34:26Z [INFO] - Removi.....\r\n",
      "Jul 31 20:34:26 gpuvm iotedged[67831]: 2019-07-31T20:34:26Z [INFO] - Finish...s.\r\n",
      "Jul 31 20:34:26 gpuvm iotedged[67831]: 2019-07-31T20:34:26Z [INFO] - Edge i...5Z\r\n",
      "Jul 31 20:34:26 gpuvm iotedged[67831]: 2019-07-31T20:34:26Z [INFO] - Provis.....\r\n",
      "Jul 31 20:34:26 gpuvm iotedged[67831]: 2019-07-31T20:34:26Z [INFO] - Manual...t\"\r\n",
      "Jul 31 20:34:26 gpuvm iotedged[67831]: 2019-07-31T20:34:26Z [INFO] - Finish...e.\r\n",
      "Jul 31 20:34:26 gpuvm iotedged[67831]: 2019-07-31T20:34:26Z [INFO] - Starti.....\r\n",
      "Jul 31 20:34:27 gpuvm iotedged[67831]: 2019-07-31T20:34:26Z [INFO] - Starti.....\r\n",
      "Jul 31 20:34:27 gpuvm iotedged[67831]: 2019-07-31T20:34:27Z [INFO] - Starti.....\r\n",
      "Jul 31 20:34:27 gpuvm iotedged[67831]: 2019-07-31T20:34:27Z [INFO] - Listen...I.\r\n",
      "Jul 31 20:34:27 gpuvm iotedged[67831]: 2019-07-31T20:34:27Z [INFO] - Listen...I.\r\n",
      "Jul 31 20:34:27 gpuvm iotedged[67831]: 2019-07-31T20:34:27Z [INFO] - Checki...us\r\n",
      "Jul 31 20:34:27 gpuvm iotedged[67831]: 2019-07-31T20:34:27Z [INFO] - Creati...nt\r\n",
      "Jul 31 20:34:27 gpuvm iotedged[67831]: 2019-07-31T20:34:27Z [INFO] - Updati...nt\r\n",
      "Jul 31 20:34:27 gpuvm iotedged[67831]: 2019-07-31T20:34:27Z [INFO] - Pullin.....\r\n",
      "Jul 31 20:34:31 gpuvm iotedged[67831]: 2019-07-31T20:34:31Z [INFO] - Succes....0\r\n",
      "Jul 31 20:34:31 gpuvm iotedged[67831]: 2019-07-31T20:34:31Z [INFO] - Creati.....\r\n",
      "Jul 31 20:34:33 gpuvm iotedged[67831]: 2019-07-31T20:34:33Z [INFO] - Succes...nt\r\n",
      "Jul 31 20:34:33 gpuvm iotedged[67831]: 2019-07-31T20:34:33Z [INFO] - Starti.....\r\n",
      "Jul 31 20:34:33 gpuvm iotedged[67831]: 2019-07-31T20:34:33Z [INFO] - Succes...nt\r\n",
      "Jul 31 20:34:35 gpuvm iotedged[67831]: 2019-07-31T20:34:35Z [INFO] - Queryi.....\r\n",
      "Jul 31 20:34:35 gpuvm iotedged[67831]: 2019-07-31T20:34:35Z [INFO] - Succes...fo\r\n",
      "Jul 31 20:34:35 gpuvm iotedged[67831]: 2019-07-31T20:34:35Z [INFO] - [mgmt]...-)\r\n",
      "Jul 31 20:34:35 gpuvm iotedged[67831]: 2019-07-31T20:34:35Z [INFO] - [work]...-)\r\n",
      "Jul 31 20:34:35 gpuvm iotedged[67831]: 2019-07-31T20:34:35Z [INFO] - [mgmt]...-)\r\n"
     ]
    }
   ],
   "source": [
    "# Examine daemon logs\n",
    "!journalctl -u iotedge --no-pager --no-full"
   ]
  },
  {
   "cell_type": "markdown",
   "metadata": {},
   "source": [
    "When you run `docker ps` command in the edge device, you should see `edgeAgent` container is up running."
   ]
  },
  {
   "cell_type": "code",
   "execution_count": 156,
   "metadata": {},
   "outputs": [
    {
     "name": "stdout",
     "output_type": "stream",
     "text": [
      "CONTAINER ID        IMAGE                                      COMMAND                   CREATED              STATUS              PORTS               NAMES\r\n",
      "348f4339ca47        mcr.microsoft.com/azureiotedge-agent:1.0   \"/bin/sh -c 'echo \\\"$…\"   About a minute ago   Up 11 seconds                           edgeAgent\r\n"
     ]
    }
   ],
   "source": [
    "!docker ps"
   ]
  },
  {
   "cell_type": "markdown",
   "metadata": {},
   "source": [
    "Next we will proceed with notebook [03_BuildRegisterImage.ipynb](03_BuildRegisterImage.ipynb)."
   ]
  }
 ],
 "metadata": {
  "authors": [
   {
    "name": "raymondl"
   }
  ],
  "celltoolbar": "Tags",
  "kernelspec": {
   "display_name": "Python 3",
   "language": "python",
   "name": "python3"
  },
  "language_info": {
   "codemirror_mode": {
    "name": "ipython",
    "version": 3
   },
   "file_extension": ".py",
   "mimetype": "text/x-python",
   "name": "python",
   "nbconvert_exporter": "python",
   "pygments_lexer": "ipython3",
   "version": "3.6.9"
  }
 },
 "nbformat": 4,
 "nbformat_minor": 2
}
