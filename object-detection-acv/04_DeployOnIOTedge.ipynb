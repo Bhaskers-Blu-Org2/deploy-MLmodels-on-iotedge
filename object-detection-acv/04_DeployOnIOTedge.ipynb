{
 "cells": [
  {
   "cell_type": "markdown",
   "metadata": {},
   "source": [
    "## Deploying two modules on IoT Edge Device\n",
    "\n",
    "In this notebook, we deploy two modules -- image-capture-od and people-detection-service, on IoT Edge."
   ]
  },
  {
   "cell_type": "code",
   "execution_count": 1,
   "metadata": {},
   "outputs": [],
   "source": [
    "%reload_ext autoreload\n",
    "%autoreload 2\n",
    "%matplotlib inline\n",
    "\n",
    "import time\n",
    "from dotenv import set_key, get_key, find_dotenv"
   ]
  },
  {
   "cell_type": "code",
   "execution_count": 2,
   "metadata": {},
   "outputs": [],
   "source": [
    "# get the .env file where all the variables are stored\n",
    "env_path = find_dotenv(raise_error_if_not_found=True)"
   ]
  },
  {
   "cell_type": "code",
   "execution_count": 3,
   "metadata": {},
   "outputs": [],
   "source": [
    "resource_group = get_key(env_path, 'resource_group')\n",
    "iot_hub_name = get_key(env_path, 'iot_hub_name')\n",
    "device_id = get_key(env_path, 'device_id')\n",
    "\n",
    "\n",
    "acr_name = get_key(env_path, 'acr_name')\n",
    "acr_login_server = get_key(env_path, 'acr_login_server')\n",
    "acr_password = get_key(env_path, 'acr_password')\n",
    "img1_location = get_key(env_path, 'img1_location')\n",
    "img2_location = get_key(env_path, 'img2_location')"
   ]
  },
  {
   "cell_type": "code",
   "execution_count": 4,
   "metadata": {
    "tags": [
     "parameters"
    ]
   },
   "outputs": [],
   "source": [
    "# deploy two modules\n",
    "module1_name = 'image-capture-od'\n",
    "module2_name = 'people-detection-service'"
   ]
  },
  {
   "cell_type": "code",
   "execution_count": 5,
   "metadata": {},
   "outputs": [],
   "source": [
    "# Based on the deployment_template.json file, we insert necessary information.\n",
    "\n",
    "file = open('./deployment_template.json')\n",
    "contents = file.read()\n",
    "\n",
    "contents = contents.replace('__REGISTRY_SERVER_NAME', acr_login_server)\n",
    "contents = contents.replace('__REGISTRY_PASSWORD', acr_password)\n",
    "contents = contents.replace('__REGISTRY_USER_NAME', acr_name)\n",
    "contents = contents.replace('__MODULE1_NAME', module1_name)\n",
    "contents = contents.replace('__MODULE2_NAME', module2_name)\n",
    "contents = contents.replace('__REGISTRY_IMAGE1_LOCATION', img1_location)\n",
    "contents = contents.replace('__REGISTRY_IMAGE2_LOCATION', img2_location)\n",
    "\n",
    "with open('./deployment.json', 'wt', encoding='utf-8') as output_file:\n",
    "    output_file.write(contents)"
   ]
  },
  {
   "cell_type": "code",
   "execution_count": null,
   "metadata": {},
   "outputs": [],
   "source": [
    "# Push the deployment JSON to the IOT Hub\n",
    "!az iot edge set-modules --device-id $device_id \\\n",
    "                         --hub-name $iot_hub_name \\\n",
    "                         --content deployment.json \\\n",
    "                         -g $resource_group"
   ]
  },
  {
   "cell_type": "markdown",
   "metadata": {},
   "source": [
    "When you run `docker ps` command in the edge device, you should see there are four containers running: `edgeAgent`, `edgeHub`, and two other containers with name `module1_name` and `module2_name`."
   ]
  },
  {
   "cell_type": "code",
   "execution_count": 7,
   "metadata": {},
   "outputs": [],
   "source": [
    "# restart the daemon\n",
    "!sudo systemctl restart iotedge\n",
    "time.sleep(20) # Wait 20 seconds for iotedge to restart\n",
    "# restart the daemon again\n",
    "!sudo systemctl restart iotedge"
   ]
  },
  {
   "cell_type": "code",
   "execution_count": 8,
   "metadata": {},
   "outputs": [
    {
     "name": "stdout",
     "output_type": "stream",
     "text": [
      "CONTAINER ID        IMAGE                                      COMMAND                   CREATED             STATUS              PORTS                                                                  NAMES\r\n",
      "bac4cdde977a        yanzacr123.azurecr.io/img2:v1              \"/bin/sh -c 'python …\"    53 seconds ago      Up 13 seconds       0.0.0.0:80->80/tcp                                                     people-detection-service\r\n",
      "d1844d89d91e        yanzacr123.azurecr.io/img1:v1              \"python3 -u ./main.py\"    55 seconds ago      Up 14 seconds       0.0.0.0:5012->5012/tcp                                                 image-capture-od\r\n",
      "2169246a84d9        mcr.microsoft.com/azureiotedge-hub:1.0     \"/bin/sh -c 'echo \\\"$…\"   13 hours ago        Up 7 seconds        0.0.0.0:443->443/tcp, 0.0.0.0:5671->5671/tcp, 0.0.0.0:8883->8883/tcp   edgeHub\r\n",
      "3b55443f4921        mcr.microsoft.com/azureiotedge-agent:1.0   \"/bin/sh -c 'echo \\\"$…\"   14 hours ago        Up 28 seconds                                                                              edgeAgent\r\n"
     ]
    }
   ],
   "source": [
    "!docker ps"
   ]
  },
  {
   "cell_type": "markdown",
   "metadata": {},
   "source": [
    "### Verify Deployment Succesfull\n",
    "\n",
    "1. You should see four container running when executing commands `docker ps`\n",
    "2. Open a browser on the edge device and type in address `http://localhost:5012/`, you should see a video stream playing. Below image shows a sample frame of the stream vido.\n",
    "\n",
    "![stream_video_frame](video_stream_frame.png)\n"
   ]
  },
  {
   "cell_type": "markdown",
   "metadata": {},
   "source": [
    "**Optional**\n",
    "\n",
    "When the container `module2_name` is running, you can also test this module. We show how to do it at the next notebook [05_TestPeopleDetectionModule.ipynb](05_TestPeopleDetectionModule.ipynb)."
   ]
  }
 ],
 "metadata": {
  "celltoolbar": "Tags",
  "jupytext": {
   "formats": "ipynb"
  },
  "kernelspec": {
   "display_name": "Python 3",
   "language": "python",
   "name": "python3"
  },
  "language_info": {
   "codemirror_mode": {
    "name": "ipython",
    "version": 3
   },
   "file_extension": ".py",
   "mimetype": "text/x-python",
   "name": "python",
   "nbconvert_exporter": "python",
   "pygments_lexer": "ipython3",
   "version": "3.6.9"
  }
 },
 "nbformat": 4,
 "nbformat_minor": 2
}
