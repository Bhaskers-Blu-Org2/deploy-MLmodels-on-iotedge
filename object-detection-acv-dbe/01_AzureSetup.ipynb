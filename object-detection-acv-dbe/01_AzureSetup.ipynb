{
 "cells": [
  {
   "cell_type": "markdown",
   "metadata": {},
   "source": [
    "## Create Azure Resources¶\n",
    "\n",
    "This notebook creates relevant Azure resources. It creates a new resource group and an Azure container registry (ACR) within it. **Please note that you may have already created a resource group when you order the Data Box Edge (DBE) device. If you choose to continue to use that existing resource group, you need to use the name of the existing resource group in next cell.** \n",
    "\n",
    "We do not create IoT hub and IoT edge identity in this notebook. These resources will be created when configuring the DBE device in [02_IoTEdgeConfig.ipynb](02_IoTEdgeConfig.ipynb).\n",
    "\n",
    "We will created a \".env\" file to save the variable names so that they can be resued cross all the notebooks."
   ]
  },
  {
   "cell_type": "code",
   "execution_count": 1,
   "metadata": {},
   "outputs": [],
   "source": [
    "from dotenv import set_key, get_key, find_dotenv\n",
    "from pathlib import Path\n",
    "import json"
   ]
  },
  {
   "cell_type": "code",
   "execution_count": 1,
   "metadata": {
    "tags": [
     "parameters"
    ]
   },
   "outputs": [],
   "source": [
    "# Azure resources\n",
    "subscription_id = \"<subscription_id>\"\n",
    "resource_group = \"<resource_group>\"  \n",
    "resource_region = \"resource_region\" # e.g. resource_region = \"eastus\"\n",
    "\n",
    "# IoT hub name - a globally UNIQUE name is required, e.g. iot_hub_name = \"myiothubplusrandomnumber\".\n",
    "iot_hub_name = \"<iot_hub_name>\" \n",
    "device_id = \"<device_id>\" # the name you give to the edge device. e.g. device_id = \"mydevice\"\n",
    "\n",
    "# azure container registry  name - a globally UNIQUE name is required, e.g. arc_name = \"myacrplusrandomnumber\"\n",
    "acr_name = '<acr_name>' \n",
    "\n",
    "# name of Data Box Edge / Data Box Gateway\n",
    "dbe_name = '<dbe_name>'"
   ]
  },
  {
   "cell_type": "markdown",
   "metadata": {},
   "source": [
    "Create and initialize a dotenv file for storing parameters used in multiple notebooks."
   ]
  },
  {
   "cell_type": "code",
   "execution_count": 7,
   "metadata": {},
   "outputs": [],
   "source": [
    "env_path = find_dotenv()\n",
    "if env_path == \"\":\n",
    "    Path(\".env\").touch()\n",
    "    env_path = find_dotenv()"
   ]
  },
  {
   "cell_type": "code",
   "execution_count": null,
   "metadata": {},
   "outputs": [],
   "source": [
    "set_key(env_path, \"subscription_id\", subscription_id)\n",
    "set_key(env_path, \"resource_group\", resource_group)\n",
    "set_key(env_path, \"resource_region\", resource_region)\n",
    "\n",
    "set_key(env_path, \"iot_hub_name\", iot_hub_name)\n",
    "set_key(env_path, \"device_id\", device_id)\n",
    "\n",
    "set_key(env_path,\"acr_name\", acr_name)\n",
    "\n",
    "set_key(env_path,\"dbe_name\", acr_name)"
   ]
  },
  {
   "cell_type": "code",
   "execution_count": null,
   "metadata": {},
   "outputs": [],
   "source": [
    "acr_login_server = '{}.azurecr.io'.format(acr_name)\n",
    "set_key(env_path,\"acr_login_server\", acr_login_server)"
   ]
  },
  {
   "cell_type": "markdown",
   "metadata": {},
   "source": [
    "## Create Azure Resources"
   ]
  },
  {
   "cell_type": "code",
   "execution_count": null,
   "metadata": {},
   "outputs": [],
   "source": [
    "# login in your account\n",
    "accounts = !az account list --all -o tsv\n",
    "if \"Please run \\\"az login\\\" to access your accounts.\" in accounts[0]:\n",
    "    !az login -o table\n",
    "else:\n",
    "    print(\"Already logged in\")"
   ]
  },
  {
   "cell_type": "markdown",
   "metadata": {},
   "source": [
    "\n",
    "Below we will reload it just to make sure that everything is working."
   ]
  },
  {
   "cell_type": "code",
   "execution_count": null,
   "metadata": {},
   "outputs": [],
   "source": [
    "!az account set --subscription $subscription_id "
   ]
  },
  {
   "cell_type": "code",
   "execution_count": null,
   "metadata": {},
   "outputs": [],
   "source": [
    "# create a new resource group\n",
    "!az group create -l $resource_region -n $resource_group"
   ]
  },
  {
   "cell_type": "markdown",
   "metadata": {},
   "source": [
    "### Create Azure Container Registry"
   ]
  },
  {
   "cell_type": "code",
   "execution_count": null,
   "metadata": {},
   "outputs": [],
   "source": [
    "!az acr create -n $acr_name -g $resource_group --sku Standard --admin-enabled"
   ]
  },
  {
   "cell_type": "code",
   "execution_count": 3,
   "metadata": {},
   "outputs": [
    {
     "name": "stdout",
     "output_type": "stream",
     "text": [
      "Login Succeeded\n",
      "WARNING! Your password will be stored unencrypted in /home/mylogin/.docker/config.json.\n",
      "Configure a credential helper to remove this warning. See\n",
      "https://docs.docker.com/engine/reference/commandline/login/#credentials-store\n",
      "\n",
      "\u001b[0m"
     ]
    }
   ],
   "source": [
    "!az acr login --name $acr_name\n"
   ]
  },
  {
   "cell_type": "code",
   "execution_count": null,
   "metadata": {},
   "outputs": [],
   "source": [
    "acr_password = !az acr credential show -n $acr_name --query passwords[0].value\n",
    "acr_password =  \"\".join(acr_password)\n",
    "acr_password = acr_password.strip('\\\"')"
   ]
  },
  {
   "cell_type": "code",
   "execution_count": null,
   "metadata": {},
   "outputs": [],
   "source": [
    "set_key(env_path,\"acr_password\", acr_password)\n"
   ]
  },
  {
   "cell_type": "markdown",
   "metadata": {},
   "source": [
    "In this notebook, we created relevant Azure resources. We also created a \".env\" file to save and reuse the variables needed cross all the notebooks. We can now move on to the next notebook [02_IoTEdgeConfig.ipynb](02_IoTEdgeConfig.ipynb)."
   ]
  }
 ],
 "metadata": {
  "celltoolbar": "Tags",
  "jupytext": {
   "formats": "ipynb"
  },
  "kernelspec": {
   "display_name": "Python 3",
   "language": "python",
   "name": "python3"
  },
  "language_info": {
   "codemirror_mode": {
    "name": "ipython",
    "version": 3
   },
   "file_extension": ".py",
   "mimetype": "text/x-python",
   "name": "python",
   "nbconvert_exporter": "python",
   "pygments_lexer": "ipython3",
   "version": "3.6.9"
  }
 },
 "nbformat": 4,
 "nbformat_minor": 2
}
