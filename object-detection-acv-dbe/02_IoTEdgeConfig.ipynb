{
 "cells": [
  {
   "cell_type": "markdown",
   "metadata": {},
   "source": [
    "# Configure The Physical Device\n",
    "\n",
    "In notebook, we configure a device as the IoT edge device. We use a Data Box Edge (DBE) box as the edge device. The objectives are to (1) install Azure IoT Edge runtime, and (2) associate the IoT edge device identiy in Azure with this physical device.\n",
    "\n",
    "Unfortuately we do not have an approach to atomatically configure the device. Below we show the manual process that achieves the above two tasks. "
   ]
  },
  {
   "cell_type": "code",
   "execution_count": null,
   "metadata": {},
   "outputs": [],
   "source": [
    "from dotenv import set_key, get_key, find_dotenv\n",
    "from pathlib import Path\n",
    "import json"
   ]
  },
  {
   "cell_type": "code",
   "execution_count": null,
   "metadata": {},
   "outputs": [],
   "source": [
    "# get the .env file where all the variables are stored\n",
    "env_path = find_dotenv(raise_error_if_not_found=True)"
   ]
  },
  {
   "cell_type": "code",
   "execution_count": null,
   "metadata": {},
   "outputs": [],
   "source": [
    "resource_group = get_key(env_path, 'resource_group')\n",
    "dbe_name = get_key(env_path, 'dbe_name')"
   ]
  },
  {
   "cell_type": "markdown",
   "metadata": {},
   "source": [
    "[Tutorial: Prepare to deploy Azure Data Box Edge](https://docs.microsoft.com/en-us/azure/databox-online/data-box-edge-deploy-prep) details how to order an DBE and addresses the above mentioned two tasks. By following this article, you will\n",
    "\n",
    "- Provision a `Data Box Edge / Data Box Gateway` resource with name `dbe_name` in `resource_group` (the names are the output of above cell) from Azure portal\n",
    "- Order a DBE device. If you already have a device, select the combo box for **I have a Data Box Edge device**.\n",
    "- Get the activation key. This key is used to activate and connect your Data Box Edge device with the resource.\n",
    "\n",
    "You should then continute to follow through [Tutorial: Install Azure Data Box Edge](https://docs.microsoft.com/en-us/azure/databox-online/data-box-edge-deploy-install) and [Tutorial: Connect, set up, and activate Azure Data Box Edge](https://docs.microsoft.com/en-us/azure/databox-online/data-box-edge-deploy-connect-setup-activate), where you will get instructions for\n",
    "\n",
    "- Unpack, rack mount, and cable the DBE device\n",
    "- Set up and activate the physical device with the previous obtained activation key using the local web UI of the device.\n",
    "\n",
    "By this point, you have associated with the `Data Box Edge / Data Box Gateway` resource created in Azure portal with the physical device."
   ]
  },
  {
   "cell_type": "code",
   "execution_count": null,
   "metadata": {},
   "outputs": [],
   "source": [
    "# Get names for using in the next step\n",
    "iot_hub_name = get_key(env_path, 'iot_hub_name')\n",
    "device_id = get_key(env_path, 'device_id')"
   ]
  },
  {
   "cell_type": "markdown",
   "metadata": {},
   "source": [
    "Next, you should follow [Tutorial: Transform data with Azure Data Box Edge](https://docs.microsoft.com/en-us/azure/databox-online/data-box-edge-deploy-configure-compute) through **Configure compute** section. During this process you will create an IoT hub (`iot_hub_name`) and IoT Edge identity (`device_id`) by using the previously defined names. You can get these names by executing the above cell. The created IoT Edge identity will be automatically associated with this DBE device. The Azure IoT Edge runtime is installed too. \n",
    "\n",
    "Please note that we only demonstrate IoT Edge deployment capability of DBE. Therefore we only touch upon related configuration area. To add a module, we show the approcah of using CLI command instead of UI in [04_DeployOnIOTedge.ipynb](./04_DeployOnIOTedge.ipynb).\n",
    "\n",
    "By this point, the DBE device is fully configured for module deployment. However, since we want to show the same output video from a web browser as in [tutorial: object-detection-acv](../object-detection-acv), we need to assign an IP address to the DBE device. The section **Enable network interface for compute** in tuorial [Enable compute network on your Azure Data Box Edge](https://docs.microsoft.com/en-us/azure/databox-online/data-box-edge-extend-compute-access-modules) shows the instructions (in local web UI of the device, click ComputeSettings, set the network and apply)."
   ]
  },
  {
   "cell_type": "code",
   "execution_count": null,
   "metadata": {},
   "outputs": [],
   "source": [
    "# The IP address assgined to the DBE device in previous step\n",
    "dbe_ip_address = '<dbe_ip_address>'\n",
    "set_key(env_path,\"dbe_ip_address\", dbe_ip_address)"
   ]
  },
  {
   "cell_type": "markdown",
   "metadata": {},
   "source": [
    "Next we will proceed with notebook [03_BuildRegisterImage.ipynb](03_BuildRegisterImage.ipynb)."
   ]
  }
 ],
 "metadata": {
  "authors": [
   {
    "name": "raymondl"
   }
  ],
  "kernelspec": {
   "display_name": "Python 3",
   "language": "python",
   "name": "python3"
  },
  "language_info": {
   "codemirror_mode": {
    "name": "ipython",
    "version": 3
   },
   "file_extension": ".py",
   "mimetype": "text/x-python",
   "name": "python",
   "nbconvert_exporter": "python",
   "pygments_lexer": "ipython3",
   "version": "3.6.9"
  }
 },
 "nbformat": 4,
 "nbformat_minor": 2
}
