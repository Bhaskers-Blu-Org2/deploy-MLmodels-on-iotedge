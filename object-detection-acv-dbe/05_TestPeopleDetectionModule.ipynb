{
 "cells": [
  {
   "cell_type": "markdown",
   "metadata": {},
   "source": [
    "## Test Machine Learning Module \n",
    "\n",
    "The purpose of this notebook is to inspect whether the deployed machine learning module has any issue. \n",
    "\n",
    "In [04_DeployOnIOTedge.ipynb](./04_DeployOnIOTedge.ipynb) we deployed two modules: the `people-detection` module and `image-capture` module. In this context, this notebook aims to verify whether the `people-detection` module can receive a single image as input and output expected prediction result. \n",
    "\n",
    "Debugging and troubleshooting on DBE device is not straigtforward. The functions provided by tool [`dbrdbe`](https://docs.microsoft.com/en-us/azure/databox-online/data-box-edge-connect-powershell-interface) using remote PowerShell is limited. Therefore, we suggest user to ensure the deployment works on a Ubuntu VM (please check out [wf2: object-detection-acv](../object-detection-acv)) before deploying on DBE device. "
   ]
  },
  {
   "cell_type": "markdown",
   "metadata": {},
   "source": [
    "Next we will proceed to notebook [06_TearDown.ipynb](06_TearDown.ipynb)."
   ]
  }
 ],
 "metadata": {
  "authors": [
   {
    "name": "raymondl"
   }
  ],
  "celltoolbar": "Tags",
  "kernelspec": {
   "display_name": "Python 3",
   "language": "python",
   "name": "python3"
  },
  "language_info": {
   "codemirror_mode": {
    "name": "ipython",
    "version": 3
   },
   "file_extension": ".py",
   "mimetype": "text/x-python",
   "name": "python",
   "nbconvert_exporter": "python",
   "pygments_lexer": "ipython3",
   "version": "3.6.9"
  }
 },
 "nbformat": 4,
 "nbformat_minor": 2
}
