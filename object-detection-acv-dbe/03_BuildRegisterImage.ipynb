{
 "cells": [
  {
   "cell_type": "markdown",
   "metadata": {},
   "source": [
    "# Build Images and Register in ACR\n",
    "\n",
    "We build two docker images based on docker files, of which the object detection model is the output model from customvision.ai service."
   ]
  },
  {
   "cell_type": "code",
   "execution_count": 1,
   "metadata": {},
   "outputs": [],
   "source": [
    "%reload_ext autoreload\n",
    "%autoreload 2\n",
    "\n",
    "import os\n",
    "from dotenv import set_key, get_key, find_dotenv"
   ]
  },
  {
   "cell_type": "code",
   "execution_count": null,
   "metadata": {},
   "outputs": [],
   "source": [
    "# get the .env file where all the variables are stored\n",
    "env_path = find_dotenv(raise_error_if_not_found=True)"
   ]
  },
  {
   "cell_type": "code",
   "execution_count": null,
   "metadata": {
    "tags": [
     "parameters"
    ]
   },
   "outputs": [],
   "source": [
    "image1_name = '<image1_name>' # e.g. image1_name = 'imgcaptureod'\n",
    "image2_name = '<image2_name>' # e.g. image2_name = 'peopledetector'"
   ]
  },
  {
   "cell_type": "code",
   "execution_count": 7,
   "metadata": {},
   "outputs": [],
   "source": [
    "acr_name = get_key(env_path, 'acr_name')\n",
    "acr_login_server = get_key(env_path, 'acr_login_server')\n",
    "acr_password = get_key(env_path, 'acr_password')\n",
    "\n",
    "img1_location = '{}/{}:v1'.format(acr_login_server, image1_name)\n",
    "img2_location = '{}/{}:v1'.format(acr_login_server, image2_name)"
   ]
  },
  {
   "cell_type": "code",
   "execution_count": null,
   "metadata": {},
   "outputs": [],
   "source": [
    "set_key(env_path,\"image1_name\", image1_name)\n",
    "set_key(env_path,\"image2_name\", image2_name)\n",
    "set_key(env_path,\"img1_location\", img1_location)\n",
    "set_key(env_path,\"img2_location\", img2_location)"
   ]
  },
  {
   "cell_type": "code",
   "execution_count": null,
   "metadata": {},
   "outputs": [],
   "source": [
    "cwd = os.getcwd()\n",
    "dockerfile1_dir = os.path.join(cwd,'modules','ImageCaptureOD')\n",
    "dockerfile2_dir = os.path.join(cwd,'modules','PeopleDetectionService')"
   ]
  },
  {
   "cell_type": "code",
   "execution_count": null,
   "metadata": {},
   "outputs": [],
   "source": [
    "print(\"login ACR ...\")"
   ]
  },
  {
   "cell_type": "code",
   "execution_count": null,
   "metadata": {},
   "outputs": [],
   "source": [
    "!az acr login --name $acr_name"
   ]
  },
  {
   "cell_type": "code",
   "execution_count": 3,
   "metadata": {},
   "outputs": [],
   "source": [
    "# Build and register image 1\n",
    "os.chdir(dockerfile1_dir)\n",
    "!docker build -t $image1_name -f test-amd64.Dockerfile .    \n",
    "!docker tag $image1_name $img1_location\n",
    "!docker push $img1_location"
   ]
  },
  {
   "cell_type": "code",
   "execution_count": null,
   "metadata": {},
   "outputs": [],
   "source": [
    "# Build and register image 2\n",
    "os.chdir(dockerfile2_dir)\n",
    "!docker build -t $image2_name -f Dockerfile .   \n",
    "!docker tag $image2_name $img2_location\n",
    "!docker push $img2_location"
   ]
  },
  {
   "cell_type": "code",
   "execution_count": null,
   "metadata": {},
   "outputs": [],
   "source": [
    "os.chdir(cwd)"
   ]
  },
  {
   "cell_type": "markdown",
   "metadata": {},
   "source": [
    "Next we will proceed with notebook [04_DeployOnIOTedge.ipynb](./04_DeployOnIOTedge.ipynb)."
   ]
  }
 ],
 "metadata": {
  "authors": [
   {
    "name": "raymondl"
   }
  ],
  "celltoolbar": "Tags",
  "kernelspec": {
   "display_name": "Python 3",
   "language": "python",
   "name": "python3"
  },
  "language_info": {
   "codemirror_mode": {
    "name": "ipython",
    "version": 3
   },
   "file_extension": ".py",
   "mimetype": "text/x-python",
   "name": "python",
   "nbconvert_exporter": "python",
   "pygments_lexer": "ipython3",
   "version": "3.6.9"
  }
 },
 "nbformat": 4,
 "nbformat_minor": 2
}
