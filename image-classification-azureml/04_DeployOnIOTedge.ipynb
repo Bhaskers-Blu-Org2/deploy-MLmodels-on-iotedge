{
 "cells": [
  {
   "cell_type": "markdown",
   "metadata": {},
   "source": [
    "# Deploying ML module on IoT Edge Device"
   ]
  },
  {
   "cell_type": "code",
   "execution_count": 300,
   "metadata": {},
   "outputs": [],
   "source": [
    "import requests\n",
    "import json\n",
    "import time\n",
    "\n",
    "import docker\n",
    "import matplotlib.pyplot as plt\n",
    "import numpy as np\n",
    "import requests\n",
    "from azure.mgmt.containerregistry import ContainerRegistryManagementClient\n",
    "from azureml.core.workspace import Workspace\n",
    "from dotenv import set_key, get_key, find_dotenv\n",
    "from testing_utilities import to_img, read_image_from, plot_predictions, get_auth\n"
   ]
  },
  {
   "cell_type": "code",
   "execution_count": 301,
   "metadata": {},
   "outputs": [],
   "source": [
    "# get the .env file where all the variables are stored\n",
    "env_path = find_dotenv(raise_error_if_not_found=True)"
   ]
  },
  {
   "cell_type": "code",
   "execution_count": null,
   "metadata": {},
   "outputs": [],
   "source": [
    "resource_group = get_key(env_path, 'resource_group')\n",
    "iot_hub_name = get_key(env_path, 'iot_hub_name')\n",
    "device_id = get_key(env_path, 'device_id')\n",
    "\n",
    "\n",
    "acr_name = get_key(env_path, 'acr_name')\n",
    "acr_login_server = get_key(env_path, 'acr_login_server')\n",
    "acr_password = get_key(env_path, 'acr_password')\n",
    "mlimg_location = get_key(env_path, 'ml_img_location')"
   ]
  },
  {
   "cell_type": "code",
   "execution_count": null,
   "metadata": {},
   "outputs": [],
   "source": [
    "# deploy ML module\n",
    "ml_module_name = 'image-classification-service'"
   ]
  },
  {
   "cell_type": "code",
   "execution_count": 346,
   "metadata": {},
   "outputs": [],
   "source": [
    "file = open('./deployment_MLmodule_template.json')\n",
    "contents = file.read()\n",
    "    \n",
    "contents = contents.replace('__REGISTRY_SERVER_NAME', acr_login_server)\n",
    "contents = contents.replace('__REGISTRY_PASSWORD', acr_password)\n",
    "contents = contents.replace('__REGISTRY_USER_NAME', acr_name)\n",
    "contents = contents.replace('__ML_MODULE_NAME', ml_module_name)\n",
    "contents = contents.replace('__REGISTRY_ML_IMAGE_LOCATION', mlimg_location)\n",
    "\n",
    "with open('./deployment.json', 'wt', encoding='utf-8') as output_file:\n",
    "    output_file.write(contents)"
   ]
  },
  {
   "cell_type": "code",
   "execution_count": null,
   "metadata": {},
   "outputs": [],
   "source": [
    "print(\"start deployment process...\")"
   ]
  },
  {
   "cell_type": "code",
   "execution_count": null,
   "metadata": {},
   "outputs": [],
   "source": [
    "# Push the deployment JSON to the IOT Hub\n",
    "!az iot edge set-modules --device-id $device_id \\\n",
    "                         --hub-name $iot_hub_name \\\n",
    "                         --content deployment.json \\\n",
    "                         -g $resource_group"
   ]
  },
  {
   "cell_type": "code",
   "execution_count": null,
   "metadata": {},
   "outputs": [],
   "source": [
    "docker_client = docker.APIClient(base_url='unix://var/run/docker.sock')"
   ]
  },
  {
   "cell_type": "code",
   "execution_count": 348,
   "metadata": {},
   "outputs": [],
   "source": [
    "def get_id(container_name):\n",
    "    contents = docker_client.containers()\n",
    "    for cont in contents:\n",
    "        if container_name in cont['Names'][0]:\n",
    "            return cont[\"Id\"]\n",
    "    return None"
   ]
  },
  {
   "cell_type": "code",
   "execution_count": 349,
   "metadata": {},
   "outputs": [],
   "source": [
    "d_id = get_id(module_name)\n",
    "while d_id is None:\n",
    "    d_id = get_id(module_name)\n",
    "    time.sleep(1)"
   ]
  },
  {
   "cell_type": "code",
   "execution_count": 350,
   "metadata": {},
   "outputs": [],
   "source": [
    "logs = docker_client.attach(d_id, stream=True, logs=True)"
   ]
  },
  {
   "cell_type": "code",
   "execution_count": null,
   "metadata": {},
   "outputs": [],
   "source": [
    "# keep running this cell until the log contains \"Using TensorFlow backend\", which indicates the container is up running.\n",
    "for l in logs:\n",
    "    msg = l.decode('utf-8')\n",
    "    print(msg)\n",
    "    if \"Using TensorFlow backend\" in msg:\n",
    "        break        "
   ]
  },
  {
   "cell_type": "markdown",
   "metadata": {},
   "source": [
    "When you run `docker ps` command in the edge device, you should see there are three containers running: `edgeAgent`, `edgeHub`, and the container with name `module_name`."
   ]
  },
  {
   "cell_type": "code",
   "execution_count": null,
   "metadata": {},
   "outputs": [],
   "source": [
    "!docker ps"
   ]
  },
  {
   "cell_type": "markdown",
   "metadata": {},
   "source": [
    "When the container `ml_module_name` is running, you can also test this module. We show how to do it at the notebook [05_TestMLModule.ipynb](./05_TestMLModule.ipynb)."
   ]
  }
 ],
 "metadata": {
  "authors": [
   {
    "name": "raymondl"
   }
  ],
  "kernelspec": {
   "display_name": "Python 3",
   "language": "python",
   "name": "python3"
  },
  "language_info": {
   "codemirror_mode": {
    "name": "ipython",
    "version": 3
   },
   "file_extension": ".py",
   "mimetype": "text/x-python",
   "name": "python",
   "nbconvert_exporter": "python",
   "pygments_lexer": "ipython3",
   "version": "3.6.9"
  }
 },
 "nbformat": 4,
 "nbformat_minor": 2
}
