{
 "cells": [
  {
   "cell_type": "markdown",
   "metadata": {},
   "source": [
    "## Deploying one module on IoT Edge Device\n",
    "\n",
    "In this notebook, we deploy a single module -- people-detection-service on IoT Edge. We want to make sure one-module deployment works before moving to two-module deployment."
   ]
  },
  {
   "cell_type": "code",
   "execution_count": 9,
   "metadata": {},
   "outputs": [],
   "source": [
    "%reload_ext autoreload\n",
    "%autoreload 2\n",
    "%matplotlib inline\n",
    "\n",
    "import time\n",
    "from dotenv import set_key, get_key, find_dotenv"
   ]
  },
  {
   "cell_type": "code",
   "execution_count": 10,
   "metadata": {},
   "outputs": [],
   "source": [
    "# get the .env file where all the variables are stored\n",
    "env_path = find_dotenv(raise_error_if_not_found=True)"
   ]
  },
  {
   "cell_type": "code",
   "execution_count": 11,
   "metadata": {},
   "outputs": [],
   "source": [
    "resource_group = get_key(env_path, 'resource_group')\n",
    "iot_hub_name = get_key(env_path, 'iot_hub_name')\n",
    "device_id = get_key(env_path, 'device_id')\n",
    "\n",
    "\n",
    "acr_name = get_key(env_path, 'acr_name')\n",
    "acr_login_server = get_key(env_path, 'acr_login_server')\n",
    "acr_password = get_key(env_path, 'acr_password')\n",
    "mlimg_location = get_key(env_path, 'ml_img_location')"
   ]
  },
  {
   "cell_type": "code",
   "execution_count": 12,
   "metadata": {
    "tags": [
     "parameters"
    ]
   },
   "outputs": [],
   "source": [
    "# deploy ML module\n",
    "ml_module_name = 'people-detection-service'"
   ]
  },
  {
   "cell_type": "code",
   "execution_count": 13,
   "metadata": {},
   "outputs": [],
   "source": [
    "# Based on the deployment_template.json file, we insert necessary information.\n",
    "\n",
    "file = open('./deployment_peopledetection_template.json')\n",
    "contents = file.read()\n",
    "\n",
    "contents = contents.replace('__REGISTRY_SERVER_NAME', acr_login_server)\n",
    "contents = contents.replace('__REGISTRY_PASSWORD', acr_password)\n",
    "contents = contents.replace('__REGISTRY_USER_NAME', acr_name)\n",
    "contents = contents.replace('__ML_MODULE_NAME', ml_module_name)\n",
    "contents = contents.replace('__REGISTRY_ML_IMAGE_LOCATION', mlimg_location)\n",
    "\n",
    "with open('./deployment.json', 'wt', encoding='utf-8') as output_file:\n",
    "    output_file.write(contents)"
   ]
  },
  {
   "cell_type": "code",
   "execution_count": 14,
   "metadata": {},
   "outputs": [
    {
     "name": "stdout",
     "output_type": "stream",
     "text": [
      "start deployment process...\n"
     ]
    }
   ],
   "source": [
    "print(\"start deployment process...\")"
   ]
  },
  {
   "cell_type": "code",
   "execution_count": 15,
   "metadata": {},
   "outputs": [
    {
     "name": "stdout",
     "output_type": "stream",
     "text": [
      "[\r\n",
      "  {\r\n",
      "    \"authentication\": {\r\n",
      "      \"symmetricKey\": {\r\n",
      "        \"primaryKey\": \"iX+Z5++8iO0xhBy55Ntqrmyk6gZA17fYLI2dS72wSkE=\",\r\n",
      "        \"secondaryKey\": \"njdrCj367T1FZLedL5q/yQKXuxC1rXbs+5as5b4OWbw=\"\r\n",
      "      },\r\n",
      "      \"type\": \"sas\",\r\n",
      "      \"x509Thumbprint\": {\r\n",
      "        \"primaryThumbprint\": null,\r\n",
      "        \"secondaryThumbprint\": null\r\n",
      "      }\r\n",
      "    },\r\n",
      "    \"cloudToDeviceMessageCount\": 0,\r\n",
      "    \"connectionState\": \"Connected\",\r\n",
      "    \"connectionStateUpdatedTime\": \"2019-08-14T18:57:22.414278\",\r\n",
      "    \"deviceId\": \"gpudevice\",\r\n",
      "    \"etag\": \"NDYyMjQxNDA3\",\r\n",
      "    \"generationId\": \"637012891217367561\",\r\n",
      "    \"lastActivityTime\": \"0001-01-01T00:00:00\",\r\n",
      "    \"managedBy\": null,\r\n",
      "    \"moduleId\": \"$edgeAgent\"\r\n",
      "  },\r\n",
      "  {\r\n",
      "    \"authentication\": {\r\n",
      "      \"symmetricKey\": {\r\n",
      "        \"primaryKey\": \"WMtrfEPiSQDViOh8VuV/UH8jbAPyNwlqk1KzCTkwnpQ=\",\r\n",
      "        \"secondaryKey\": \"B76PkpeGlL86cNBN50//5wYARhcimChjKCDOFKJwklo=\"\r\n",
      "      },\r\n",
      "      \"type\": \"sas\",\r\n",
      "      \"x509Thumbprint\": {\r\n",
      "        \"primaryThumbprint\": null,\r\n",
      "        \"secondaryThumbprint\": null\r\n",
      "      }\r\n",
      "    },\r\n",
      "    \"cloudToDeviceMessageCount\": 0,\r\n",
      "    \"connectionState\": \"Connected\",\r\n",
      "    \"connectionStateUpdatedTime\": \"2019-08-14T18:57:22.414278\",\r\n",
      "    \"deviceId\": \"gpudevice\",\r\n",
      "    \"etag\": \"NDYyMjQxNDA4\",\r\n",
      "    \"generationId\": \"637012891217367561\",\r\n",
      "    \"lastActivityTime\": \"0001-01-01T00:00:00\",\r\n",
      "    \"managedBy\": \"iotEdge\",\r\n",
      "    \"moduleId\": \"$edgeHub\"\r\n",
      "  },\r\n",
      "  {\r\n",
      "    \"authentication\": {\r\n",
      "      \"symmetricKey\": {\r\n",
      "        \"primaryKey\": \"x2+BadsW4JbOJBGiFUGHj5XKQU5Dgzs8xKv+AOsc1sc=\",\r\n",
      "        \"secondaryKey\": \"IOfZD/1x20iuHUYLEph6UyhBOZ7fH9jitptEFS87qjM=\"\r\n",
      "      },\r\n",
      "      \"type\": \"sas\",\r\n",
      "      \"x509Thumbprint\": {\r\n",
      "        \"primaryThumbprint\": null,\r\n",
      "        \"secondaryThumbprint\": null\r\n",
      "      }\r\n",
      "    },\r\n",
      "    \"cloudToDeviceMessageCount\": 0,\r\n",
      "    \"connectionState\": \"Connected\",\r\n",
      "    \"connectionStateUpdatedTime\": \"2019-08-14T20:12:22.931068\",\r\n",
      "    \"deviceId\": \"gpudevice\",\r\n",
      "    \"etag\": \"ODU3NzYwNjc0\",\r\n",
      "    \"generationId\": \"637014057978839941\",\r\n",
      "    \"lastActivityTime\": \"0001-01-01T00:00:00\",\r\n",
      "    \"managedBy\": \"iotEdge\",\r\n",
      "    \"moduleId\": \"people-detection-service\"\r\n",
      "  }\r\n",
      "]\r\n",
      "\u001b[0m"
     ]
    }
   ],
   "source": [
    "# Push the deployment JSON to the IOT Hub\n",
    "!az iot edge set-modules --device-id $device_id \\\n",
    "                         --hub-name $iot_hub_name \\\n",
    "                         --content deployment.json \\\n",
    "                         -g $resource_group"
   ]
  },
  {
   "cell_type": "code",
   "execution_count": 16,
   "metadata": {},
   "outputs": [],
   "source": [
    "# restart the daemon\n",
    "!sudo systemctl restart iotedge\n",
    "time.sleep(20) # Wait 20 seconds for iotedge to restart\n",
    "# restart the daemon again\n",
    "!sudo systemctl restart iotedge"
   ]
  },
  {
   "cell_type": "markdown",
   "metadata": {},
   "source": [
    "When you run `docker ps` command in the edge device, you should see there are three containers running: `edgeAgent`, `edgeHub`, and two other containers with name `ml_module_name`."
   ]
  },
  {
   "cell_type": "code",
   "execution_count": null,
   "metadata": {},
   "outputs": [],
   "source": [
    "!docker ps"
   ]
  },
  {
   "cell_type": "markdown",
   "metadata": {},
   "source": [
    "When the container `ml_module_name` is running, you can also test this module. We show how to do it at the notebook [05_TestPeopleDetectionModule.ipynb](./05_TestPeopleDetectionModule.ipynb)."
   ]
  }
 ],
 "metadata": {
  "celltoolbar": "Tags",
  "jupytext": {
   "formats": "ipynb"
  },
  "kernelspec": {
   "display_name": "Python 3",
   "language": "python",
   "name": "python3"
  },
  "language_info": {
   "codemirror_mode": {
    "name": "ipython",
    "version": 3
   },
   "file_extension": ".py",
   "mimetype": "text/x-python",
   "name": "python",
   "nbconvert_exporter": "python",
   "pygments_lexer": "ipython3",
   "version": "3.6.9"
  }
 },
 "nbformat": 4,
 "nbformat_minor": 2
}
