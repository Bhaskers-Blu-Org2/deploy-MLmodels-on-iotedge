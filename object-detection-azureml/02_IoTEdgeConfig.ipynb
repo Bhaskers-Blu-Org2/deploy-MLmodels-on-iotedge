{
 "cells": [
  {
   "cell_type": "markdown",
   "metadata": {},
   "source": [
    "# Configure The Physical Device\n",
    "\n",
    "In notebook, we configure a device as the IoT edge device. We use a NC6 Ubuntu Linux VM as the edge device, which is the same Linux VM where you run the current notebook. The goal is to configure the edge device so that it can run [Docker](https://docs.docker.com/v17.12/install/linux/docker-ee/ubuntu), [nvidia-docker](https://github.com/NVIDIA/nvidia-docker), and [IoT Edge runtime](https://docs.microsoft.com/en-us/azure/iot-edge/how-to-install-iot-edge-linux). If another device is used as the edge device, instructions need to be adjusted accordingly. \n"
   ]
  },
  {
   "cell_type": "code",
   "execution_count": 1,
   "metadata": {},
   "outputs": [],
   "source": [
    "%reload_ext autoreload\n",
    "%autoreload 2\n",
    "%matplotlib inline\n",
    "\n",
    "import time\n",
    "from dotenv import set_key, get_key, find_dotenv"
   ]
  },
  {
   "cell_type": "code",
   "execution_count": null,
   "metadata": {},
   "outputs": [],
   "source": [
    "# get the .env file where all the variables are stored\n",
    "env_path = find_dotenv(raise_error_if_not_found=True)"
   ]
  },
  {
   "cell_type": "code",
   "execution_count": null,
   "metadata": {},
   "outputs": [],
   "source": [
    "# get previously stored variables\n",
    "device_connection_string = get_key(env_path, 'device_connection_string')"
   ]
  },
  {
   "cell_type": "markdown",
   "metadata": {},
   "source": [
    "### Install az-cli iot extension "
   ]
  },
  {
   "cell_type": "code",
   "execution_count": 8,
   "metadata": {},
   "outputs": [
    {
     "name": "stdout",
     "output_type": "stream",
     "text": [
      "Already logged in\n"
     ]
    }
   ],
   "source": [
    "accounts = !az account list --all -o tsv\n",
    "if \"Please run \\\"az login\\\" to access your accounts.\" in accounts[0]:\n",
    "    !az login -o table\n",
    "else:\n",
    "    print(\"Already logged in\")"
   ]
  },
  {
   "cell_type": "code",
   "execution_count": null,
   "metadata": {},
   "outputs": [],
   "source": [
    "# install az-cli iot extension \n",
    "!az extension add --name azure-cli-iot-ext"
   ]
  },
  {
   "cell_type": "markdown",
   "metadata": {},
   "source": [
    "### Register Microsoft key and software repository feed\n",
    "\n",
    "Prepare your device for the IoT Edge runtime installation."
   ]
  },
  {
   "cell_type": "code",
   "execution_count": 19,
   "metadata": {},
   "outputs": [
    {
     "name": "stdout",
     "output_type": "stream",
     "text": [
      "16.04\n"
     ]
    }
   ],
   "source": [
    "# Install the repository configuration. Replace <release> with 16.04 or 18.04 as appropriate for your release of Ubuntu.\n",
    "release = !lsb_release -r\n",
    "release  = release[0].split('\\t')[1]\n",
    "print(release)"
   ]
  },
  {
   "cell_type": "code",
   "execution_count": 20,
   "metadata": {},
   "outputs": [
    {
     "name": "stdout",
     "output_type": "stream",
     "text": [
      "  % Total    % Received % Xferd  Average Speed   Time    Time     Time  Current\n",
      "                                 Dload  Upload   Total   Spent    Left  Speed\n",
      "100    79  100    79    0     0    729      0 --:--:-- --:--:-- --:--:--   731\n"
     ]
    }
   ],
   "source": [
    "!curl https://packages.microsoft.com/config/ubuntu/$release/prod.list > ./microsoft-prod.list"
   ]
  },
  {
   "cell_type": "code",
   "execution_count": 21,
   "metadata": {},
   "outputs": [],
   "source": [
    "# Copy the generated list.\n",
    "!sudo cp ./microsoft-prod.list /etc/apt/sources.list.d/"
   ]
  },
  {
   "cell_type": "code",
   "execution_count": 22,
   "metadata": {},
   "outputs": [
    {
     "name": "stdout",
     "output_type": "stream",
     "text": [
      "  % Total    % Received % Xferd  Average Speed   Time    Time     Time  Current\n",
      "                                 Dload  Upload   Total   Spent    Left  Speed\n",
      "100   983  100   983    0     0   8871      0 --:--:-- --:--:-- --:--:--  8855\n"
     ]
    }
   ],
   "source": [
    "#Install Microsoft GPG public key\n",
    "!curl https://packages.microsoft.com/keys/microsoft.asc | gpg --dearmor > microsoft.gpg\n",
    "!sudo cp ./microsoft.gpg /etc/apt/trusted.gpg.d/"
   ]
  },
  {
   "cell_type": "markdown",
   "metadata": {},
   "source": [
    "### Install the Azure IoT Edge Security Daemon\n",
    "\n",
    "The IoT Edge security daemon provides and maintains security standards on the IoT Edge device. The daemon starts on every boot and bootstraps the device by starting the rest of the IoT Edge runtime.\n",
    "The installation command also installs the standard version of the iothsmlib if not already present."
   ]
  },
  {
   "cell_type": "code",
   "execution_count": null,
   "metadata": {},
   "outputs": [],
   "source": [
    "# Perform apt update.\n",
    "!sudo apt-get update"
   ]
  },
  {
   "cell_type": "code",
   "execution_count": null,
   "metadata": {},
   "outputs": [],
   "source": [
    "# Install the security daemon. The package is installed at /etc/iotedge/.\n",
    "!sudo apt-get install iotedge -y --no-install-recommends"
   ]
  },
  {
   "cell_type": "markdown",
   "metadata": {},
   "source": [
    "### Configure the Azure IoT Edge Security \n",
    "\n",
    "Configure the IoT Edge runtime to link your physical device with a device identity that exists in an Azure IoT hub.\n",
    "The daemon can be configured using the configuration file at /etc/iotedge/config.yaml. The file is write-protected by default, you might need elevated permissions to edit it."
   ]
  },
  {
   "cell_type": "code",
   "execution_count": 153,
   "metadata": {},
   "outputs": [],
   "source": [
    "# Manual provisioning IoT edge device\n",
    "!sudo sed -i \"s#\\(device_connection_string: \\).*#\\1\\\"$device_connection_string\\\"#g\" /etc/iotedge/config.yaml"
   ]
  },
  {
   "cell_type": "code",
   "execution_count": 160,
   "metadata": {},
   "outputs": [],
   "source": [
    "# restart the daemon\n",
    "!sudo systemctl restart iotedge\n",
    "time.sleep(20) # Wait 20 seconds for iotedge to restart"
   ]
  },
  {
   "cell_type": "code",
   "execution_count": 162,
   "metadata": {},
   "outputs": [],
   "source": [
    "# restart the daemon again\n",
    "!sudo systemctl restart iotedge"
   ]
  },
  {
   "cell_type": "markdown",
   "metadata": {},
   "source": [
    "### Verify successful installation"
   ]
  },
  {
   "cell_type": "code",
   "execution_count": 28,
   "metadata": {},
   "outputs": [
    {
     "name": "stdout",
     "output_type": "stream",
     "text": [
      "\u001b[0;1;32m●\u001b[0m iotedge.service - Azure IoT Edge daemon\r\n",
      "   Loaded: loaded (/lib/systemd/system/iotedge.service; enabled; vendor preset: enabled)\r\n",
      "   Active: \u001b[0;1;32mactive (running)\u001b[0m since Wed 2019-07-31 20:34:24 UTC; 10s ago\r\n",
      "     Docs: man:iotedged(8)\r\n",
      " Main PID: 67831 (iotedged)\r\n",
      "    Tasks: 13\r\n",
      "   Memory: 5.1M\r\n",
      "      CPU: 2.739s\r\n",
      "   CGroup: /system.slice/iotedge.service\r\n",
      "           └─67831 /usr/bin/iotedged -c /etc/iotedge/config.yaml\r\n",
      "\r\n",
      "Jul 31 20:34:27 gpuvm iotedged[67831]: 2019-07-31T20:34:27Z [INFO] - Listen...I.\r\n",
      "Jul 31 20:34:27 gpuvm iotedged[67831]: 2019-07-31T20:34:27Z [INFO] - Checki...us\r\n",
      "Jul 31 20:34:27 gpuvm iotedged[67831]: 2019-07-31T20:34:27Z [INFO] - Creati...nt\r\n",
      "Jul 31 20:34:27 gpuvm iotedged[67831]: 2019-07-31T20:34:27Z [INFO] - Updati...nt\r\n",
      "Jul 31 20:34:27 gpuvm iotedged[67831]: 2019-07-31T20:34:27Z [INFO] - Pullin.....\r\n",
      "Jul 31 20:34:31 gpuvm iotedged[67831]: 2019-07-31T20:34:31Z [INFO] - Succes....0\r\n",
      "Jul 31 20:34:31 gpuvm iotedged[67831]: 2019-07-31T20:34:31Z [INFO] - Creati.....\r\n",
      "Jul 31 20:34:33 gpuvm iotedged[67831]: 2019-07-31T20:34:33Z [INFO] - Succes...nt\r\n",
      "Jul 31 20:34:33 gpuvm iotedged[67831]: 2019-07-31T20:34:33Z [INFO] - Starti.....\r\n",
      "Jul 31 20:34:33 gpuvm iotedged[67831]: 2019-07-31T20:34:33Z [INFO] - Succes...nt\r\n",
      "Hint: Some lines were ellipsized, use -l to show in full.\r\n"
     ]
    }
   ],
   "source": [
    "time.sleep(30) # Wait 30 seconds to let the iotedge daemon stable\n",
    "# check the status of the IoT Edge Daemon\n",
    "!systemctl status iotedge"
   ]
  },
  {
   "cell_type": "code",
   "execution_count": null,
   "metadata": {},
   "outputs": [],
   "source": [
    "# Examine daemon logs\n",
    "!journalctl -u iotedge --no-pager --no-full"
   ]
  },
  {
   "cell_type": "markdown",
   "metadata": {},
   "source": [
    "When you run `docker ps` command in the edge device, you should see `edgeAgent` container is up running."
   ]
  },
  {
   "cell_type": "code",
   "execution_count": 156,
   "metadata": {},
   "outputs": [
    {
     "name": "stdout",
     "output_type": "stream",
     "text": [
      "CONTAINER ID        IMAGE                                      COMMAND                   CREATED              STATUS              PORTS               NAMES\r\n",
      "348f4339ca47        mcr.microsoft.com/azureiotedge-agent:1.0   \"/bin/sh -c 'echo \\\"$…\"   About a minute ago   Up 11 seconds                           edgeAgent\r\n"
     ]
    }
   ],
   "source": [
    "!docker ps"
   ]
  },
  {
   "cell_type": "markdown",
   "metadata": {},
   "source": [
    "Next we will proceed with notebook [031_DevAndRegisterModel.ipynb](031_DevAndRegisterModel.ipynb)."
   ]
  }
 ],
 "metadata": {
  "authors": [
   {
    "name": "raymondl"
   }
  ],
  "kernelspec": {
   "display_name": "Python 3",
   "language": "python",
   "name": "python3"
  },
  "language_info": {
   "codemirror_mode": {
    "name": "ipython",
    "version": 3
   },
   "file_extension": ".py",
   "mimetype": "text/x-python",
   "name": "python",
   "nbconvert_exporter": "python",
   "pygments_lexer": "ipython3",
   "version": "3.6.9"
  }
 },
 "nbformat": 4,
 "nbformat_minor": 2
}
